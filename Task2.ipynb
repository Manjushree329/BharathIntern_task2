{
  "nbformat": 4,
  "nbformat_minor": 0,
  "metadata": {
    "colab": {
      "provenance": [],
      "authorship_tag": "ABX9TyNY6FquDRTJ6Y5CBWWO0ODi",
      "include_colab_link": true
    },
    "kernelspec": {
      "name": "python3",
      "display_name": "Python 3"
    },
    "language_info": {
      "name": "python"
    }
  },
  "cells": [
    {
      "cell_type": "markdown",
      "metadata": {
        "id": "view-in-github",
        "colab_type": "text"
      },
      "source": [
        "<a href=\"https://colab.research.google.com/github/Manjushree329/BharathIntern_task2/blob/main/Task2.ipynb\" target=\"_parent\"><img src=\"https://colab.research.google.com/assets/colab-badge.svg\" alt=\"Open In Colab\"/></a>"
      ]
    },
    {
      "cell_type": "code",
      "execution_count": null,
      "metadata": {
        "colab": {
          "base_uri": "https://localhost:8080/"
        },
        "id": "Abccez6XDbWL",
        "outputId": "ccee9827-26a9-4e21-c1b0-d31bfb8cc68e"
      },
      "outputs": [
        {
          "output_type": "stream",
          "name": "stdout",
          "text": [
            "Requirement already satisfied: pandas in /usr/local/lib/python3.10/dist-packages (2.0.3)\n",
            "Requirement already satisfied: scikit-learn in /usr/local/lib/python3.10/dist-packages (1.2.2)\n",
            "Requirement already satisfied: python-dateutil>=2.8.2 in /usr/local/lib/python3.10/dist-packages (from pandas) (2.8.2)\n",
            "Requirement already satisfied: pytz>=2020.1 in /usr/local/lib/python3.10/dist-packages (from pandas) (2023.4)\n",
            "Requirement already satisfied: tzdata>=2022.1 in /usr/local/lib/python3.10/dist-packages (from pandas) (2024.1)\n",
            "Requirement already satisfied: numpy>=1.21.0 in /usr/local/lib/python3.10/dist-packages (from pandas) (1.25.2)\n",
            "Requirement already satisfied: scipy>=1.3.2 in /usr/local/lib/python3.10/dist-packages (from scikit-learn) (1.11.4)\n",
            "Requirement already satisfied: joblib>=1.1.1 in /usr/local/lib/python3.10/dist-packages (from scikit-learn) (1.4.2)\n",
            "Requirement already satisfied: threadpoolctl>=2.0.0 in /usr/local/lib/python3.10/dist-packages (from scikit-learn) (3.5.0)\n",
            "Requirement already satisfied: six>=1.5 in /usr/local/lib/python3.10/dist-packages (from python-dateutil>=2.8.2->pandas) (1.16.0)\n"
          ]
        }
      ],
      "source": [
        "# Install necessary libraries\n",
        "!pip install pandas scikit-learn"
      ]
    },
    {
      "cell_type": "code",
      "source": [
        "from google.colab import drive\n",
        "drive.mount('/content/drive')"
      ],
      "metadata": {
        "colab": {
          "base_uri": "https://localhost:8080/"
        },
        "id": "Jur0wbXjHg5M",
        "outputId": "3d9602e5-49fc-429b-81a5-baa4a95d9133"
      },
      "execution_count": null,
      "outputs": [
        {
          "output_type": "stream",
          "name": "stdout",
          "text": [
            "Drive already mounted at /content/drive; to attempt to forcibly remount, call drive.mount(\"/content/drive\", force_remount=True).\n"
          ]
        }
      ]
    },
    {
      "cell_type": "code",
      "source": [
        "from google.colab import drive\n",
        "drive.mount('/content/drive')"
      ],
      "metadata": {
        "id": "Ydk4O_A4IjUQ",
        "colab": {
          "base_uri": "https://localhost:8080/"
        },
        "outputId": "80f7c6a1-976c-439c-cc2c-0840633cc769"
      },
      "execution_count": null,
      "outputs": [
        {
          "output_type": "stream",
          "name": "stdout",
          "text": [
            "Drive already mounted at /content/drive; to attempt to forcibly remount, call drive.mount(\"/content/drive\", force_remount=True).\n"
          ]
        }
      ]
    },
    {
      "cell_type": "code",
      "source": [
        "import os\n",
        "os.chdir('/content/drive/My Drive/Titanic_Data/')"
      ],
      "metadata": {
        "id": "N4GkNHR_MmB_"
      },
      "execution_count": null,
      "outputs": []
    },
    {
      "cell_type": "code",
      "source": [
        "import pandas as pd\n",
        "\n",
        "train_data = pd.read_csv('train.csv')\n",
        "test_data = pd.read_csv('test.csv')"
      ],
      "metadata": {
        "id": "o_9JeyDnMpUr"
      },
      "execution_count": null,
      "outputs": []
    },
    {
      "cell_type": "code",
      "source": [
        "import pandas as pd\n",
        "\n",
        "# Load the dataset\n",
        "train_df = pd.read_csv('train.csv')\n",
        "test_df = pd.read_csv('test.csv')\n",
        "\n",
        "# Display the first few rows of the training data\n",
        "train_df.head()\n",
        "# Combine train and test datasets for feature engineering\n",
        "combined_df = pd.concat([train_df, test_df], sort=False)\n",
        "\n",
        "# Extract titles from names\n",
        "combined_df['Title'] = combined_df['Name'].str.extract(' ([A-Za-z]+)\\.', expand=False)\n",
        "combined_df['Title'] = combined_df['Title'].replace(['Lady', 'Countess','Capt', 'Col','Don', 'Dr',\n",
        "                                                     'Major', 'Rev', 'Sir', 'Jonkheer', 'Dona'], 'Rare')\n",
        "combined_df['Title'] = combined_df['Title'].replace('Mlle', 'Miss')\n",
        "combined_df['Title'] = combined_df['Title'].replace('Ms', 'Miss')\n",
        "combined_df['Title'] = combined_df['Title'].replace('Mme', 'Mrs')\n",
        "\n",
        "# Fill missing ages based on median age of titles\n",
        "combined_df['Age'] = combined_df.groupby('Title')['Age'].transform(lambda x: x.fillna(x.median()))\n",
        "\n",
        "# Fill missing embarked with the most common port\n",
        "combined_df['Embarked'] = combined_df['Embarked'].fillna(combined_df['Embarked'].mode()[0])\n",
        "\n",
        "# Fill missing fare with median fare\n",
        "combined_df['Fare'] = combined_df['Fare'].fillna(combined_df['Fare'].median())\n",
        "\n",
        "# Create a new feature for family size\n",
        "combined_df['FamilySize'] = combined_df['SibSp'] + combined_df['Parch'] + 1\n",
        "\n",
        "# Convert categorical features to numerical\n",
        "combined_df = pd.get_dummies(combined_df, columns=['Sex', 'Embarked', 'Title'], drop_first=True)\n",
        "\n",
        "# Drop irrelevant columns\n",
        "combined_df.drop(['Name', 'Ticket', 'Cabin', 'PassengerId'], axis=1, inplace=True)\n",
        "\n",
        "# Separate the combined dataset back into train and test sets\n",
        "train_df = combined_df[:len(train_df)]\n",
        "test_df = combined_df[len(train_df):]\n",
        "\n",
        "# Restore the 'Survived' column to the training set\n",
        "train_df['Survived'] = train_df['Survived'].astype(int)\n",
        "from sklearn.model_selection import train_test_split\n",
        "\n",
        "# Split the training data into features and target variable\n",
        "X = train_df.drop('Survived', axis=1)\n",
        "y = train_df['Survived']\n",
        "\n",
        "# Split the data into training and validation sets\n",
        "X_train, X_val, y_train, y_val = train_test_split(X, y, test_size=0.2, random_state=42)\n",
        "from sklearn.ensemble import RandomForestClassifier\n",
        "\n",
        "# Initialize the model\n",
        "model = RandomForestClassifier(n_estimators=100, random_state=42)\n",
        "\n",
        "# Train the model\n",
        "model.fit(X_train, y_train)\n",
        "from sklearn.metrics import accuracy_score, confusion_matrix, classification_report\n",
        "\n",
        "# Predict on the validation set\n",
        "y_pred = model.predict(X_val)\n",
        "\n",
        "# Evaluate the model\n",
        "accuracy = accuracy_score(y_val, y_pred)\n",
        "conf_matrix = confusion_matrix(y_val, y_pred)\n",
        "class_report = classification_report(y_val, y_pred)\n",
        "\n",
        "print(f'Accuracy: {accuracy}')\n",
        "print(f'Confusion Matrix:\\n{conf_matrix}')\n",
        "print(f'Classification Report:\\n{class_report}')\n",
        "# Predict on the test set\n",
        "test_predictions = model.predict(test_df.drop('Survived', axis=1))\n",
        "\n",
        "# Create a submission file\n",
        "submission = pd.DataFrame({\n",
        "    \"PassengerId\": pd.read_csv('test.csv')['PassengerId'],\n",
        "    \"Survived\": test_predictions\n",
        "})\n",
        "\n",
        "# Save the submission to a CSV file\n",
        "submission.to_csv('titanic_submission.csv', index=False)"
      ],
      "metadata": {
        "id": "g6fZ9NxeDocp",
        "colab": {
          "base_uri": "https://localhost:8080/"
        },
        "outputId": "165675a5-807b-4369-9ae3-fb5b99fb5ff1"
      },
      "execution_count": null,
      "outputs": [
        {
          "output_type": "stream",
          "name": "stderr",
          "text": [
            "<ipython-input-21-04898d9e727f>:43: SettingWithCopyWarning: \n",
            "A value is trying to be set on a copy of a slice from a DataFrame.\n",
            "Try using .loc[row_indexer,col_indexer] = value instead\n",
            "\n",
            "See the caveats in the documentation: https://pandas.pydata.org/pandas-docs/stable/user_guide/indexing.html#returning-a-view-versus-a-copy\n",
            "  train_df['Survived'] = train_df['Survived'].astype(int)\n"
          ]
        },
        {
          "output_type": "stream",
          "name": "stdout",
          "text": [
            "Accuracy: 0.8379888268156425\n",
            "Confusion Matrix:\n",
            "[[91 14]\n",
            " [15 59]]\n",
            "Classification Report:\n",
            "              precision    recall  f1-score   support\n",
            "\n",
            "           0       0.86      0.87      0.86       105\n",
            "           1       0.81      0.80      0.80        74\n",
            "\n",
            "    accuracy                           0.84       179\n",
            "   macro avg       0.83      0.83      0.83       179\n",
            "weighted avg       0.84      0.84      0.84       179\n",
            "\n"
          ]
        }
      ]
    }
  ]
}